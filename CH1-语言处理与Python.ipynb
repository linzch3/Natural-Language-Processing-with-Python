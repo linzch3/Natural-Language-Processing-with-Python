{
 "cells": [
  {
   "cell_type": "markdown",
   "metadata": {
    "toc": "true"
   },
   "source": [
    " # Table of Contents\n",
    "<div class=\"toc\" style=\"margin-top: 1em;\"><ul class=\"toc-item\" id=\"toc-level0\"><li><span><a href=\"#下载语料文件\" data-toc-modified-id=\"下载语料文件-1\"><span class=\"toc-item-num\">1&nbsp;&nbsp;</span>下载语料文件</a></span></li><li><span><a href=\"#导入书籍\" data-toc-modified-id=\"导入书籍-2\"><span class=\"toc-item-num\">2&nbsp;&nbsp;</span>导入书籍</a></span></li><li><span><a href=\"#搜索文本\" data-toc-modified-id=\"搜索文本-3\"><span class=\"toc-item-num\">3&nbsp;&nbsp;</span>搜索文本</a></span></li><li><span><a href=\"#计数词汇\" data-toc-modified-id=\"计数词汇-4\"><span class=\"toc-item-num\">4&nbsp;&nbsp;</span>计数词汇</a></span></li><li><span><a href=\"#词频统计\" data-toc-modified-id=\"词频统计-5\"><span class=\"toc-item-num\">5&nbsp;&nbsp;</span>词频统计</a></span></li><li><span><a href=\"#双连词\" data-toc-modified-id=\"双连词-6\"><span class=\"toc-item-num\">6&nbsp;&nbsp;</span>双连词</a></span></li><li><span><a href=\"#聊天机器人\" data-toc-modified-id=\"聊天机器人-7\"><span class=\"toc-item-num\">7&nbsp;&nbsp;</span>聊天机器人</a></span></li><li><span><a href=\"#附录1-关于list的一些操作\" data-toc-modified-id=\"附录1-关于list的一些操作-8\"><span class=\"toc-item-num\">8&nbsp;&nbsp;</span>附录1-关于list的一些操作</a></span><ul class=\"toc-item\"><li><span><a href=\"#list相连\" data-toc-modified-id=\"list相连-8.1\"><span class=\"toc-item-num\">8.1&nbsp;&nbsp;</span>list相连</a></span></li><li><span><a href=\"#找到一个词第一次出现的索引\" data-toc-modified-id=\"找到一个词第一次出现的索引-8.2\"><span class=\"toc-item-num\">8.2&nbsp;&nbsp;</span>找到一个词第一次出现的索引</a></span></li><li><span><a href=\"#合并list中的所有字符串\" data-toc-modified-id=\"合并list中的所有字符串-8.3\"><span class=\"toc-item-num\">8.3&nbsp;&nbsp;</span>合并list中的所有字符串</a></span></li></ul></li><li><span><a href=\"#附录2-常见的词比较运算函数\" data-toc-modified-id=\"附录2-常见的词比较运算函数-9\"><span class=\"toc-item-num\">9&nbsp;&nbsp;</span>附录2-常见的词比较运算函数</a></span></li></ul></div>"
   ]
  },
  {
   "cell_type": "markdown",
   "metadata": {},
   "source": [
    "# 下载语料文件"
   ]
  },
  {
   "cell_type": "code",
   "execution_count": 2,
   "metadata": {
    "ExecuteTime": {
     "end_time": "2017-09-28T23:44:03.360024Z",
     "start_time": "2017-09-28T23:44:02.035299Z"
    },
    "collapsed": true
   },
   "outputs": [],
   "source": [
    "import nltk\n",
    "nltk.download()"
   ]
  },
  {
   "cell_type": "markdown",
   "metadata": {},
   "source": [
    "# 导入书籍"
   ]
  },
  {
   "cell_type": "code",
   "execution_count": 2,
   "metadata": {
    "ExecuteTime": {
     "end_time": "2017-09-28T08:09:35.419846Z",
     "start_time": "2017-09-28T08:09:23.049065Z"
    }
   },
   "outputs": [
    {
     "name": "stdout",
     "output_type": "stream",
     "text": [
      "*** Introductory Examples for the NLTK Book ***\n",
      "Loading text1, ..., text9 and sent1, ..., sent9\n",
      "Type the name of the text or sentence to view it.\n",
      "Type: 'texts()' or 'sents()' to list the materials.\n",
      "text1: Moby Dick by Herman Melville 1851\n",
      "text2: Sense and Sensibility by Jane Austen 1811\n",
      "text3: The Book of Genesis\n",
      "text4: Inaugural Address Corpus\n",
      "text5: Chat Corpus\n",
      "text6: Monty Python and the Holy Grail\n",
      "text7: Wall Street Journal\n",
      "text8: Personals Corpus\n",
      "text9: The Man Who Was Thursday by G . K . Chesterton 1908\n"
     ]
    }
   ],
   "source": [
    "from nltk.book import *"
   ]
  },
  {
   "cell_type": "markdown",
   "metadata": {},
   "source": [
    "# 搜索文本"
   ]
  },
  {
   "cell_type": "code",
   "execution_count": 4,
   "metadata": {
    "ExecuteTime": {
     "end_time": "2017-09-28T12:55:11.762227Z",
     "start_time": "2017-09-28T12:55:11.721699Z"
    }
   },
   "outputs": [
    {
     "data": {
      "text/plain": [
       "<Text: Moby Dick by Herman Melville 1851>"
      ]
     },
     "execution_count": 4,
     "metadata": {},
     "output_type": "execute_result"
    }
   ],
   "source": [
    "text1"
   ]
  },
  {
   "cell_type": "code",
   "execution_count": 3,
   "metadata": {
    "ExecuteTime": {
     "end_time": "2017-09-28T08:17:37.339698Z",
     "start_time": "2017-09-28T08:17:37.111787Z"
    }
   },
   "outputs": [
    {
     "name": "stdout",
     "output_type": "stream",
     "text": [
      "Displaying 11 of 11 matches:\n",
      "ong the former , one was of a most monstrous size . ... This came towards us , \n",
      "ON OF THE PSALMS . \" Touching that monstrous bulk of the whale or ork we have r\n",
      "ll over with a heathenish array of monstrous clubs and spears . Some were thick\n",
      "d as you gazed , and wondered what monstrous cannibal and savage could ever hav\n",
      "that has survived the flood ; most monstrous and most mountainous ! That Himmal\n",
      "they might scout at Moby Dick as a monstrous fable , or still worse and more de\n",
      "th of Radney .'\" CHAPTER 55 Of the Monstrous Pictures of Whales . I shall ere l\n",
      "ing Scenes . In connexion with the monstrous pictures of whales , I am strongly\n",
      "ere to enter upon those still more monstrous stories of them which are to be fo\n",
      "ght have been rummaged out of this monstrous cabinet there is no telling . But \n",
      "of Whale - Bones ; for Whales of a monstrous size are oftentimes cast up dead u\n"
     ]
    }
   ],
   "source": [
    "text1.concordance(\"monstrous\")"
   ]
  },
  {
   "cell_type": "markdown",
   "metadata": {},
   "source": [
    "上面输出monstrous在text1的出现的**上下文**，共有11处。\n",
    "\n",
    "书中有提到根据相似上下文的词语的意思可推测出当前词的情感导向和语意，但是感觉这样不是很严谨，但也可以参考一下。\n",
    "\n",
    "也可以使用下面的函数来查询与monstrous出现在**类似的上下文**的单词："
   ]
  },
  {
   "cell_type": "code",
   "execution_count": 7,
   "metadata": {
    "ExecuteTime": {
     "end_time": "2017-09-28T12:59:54.974997Z",
     "start_time": "2017-09-28T12:59:54.883432Z"
    }
   },
   "outputs": [
    {
     "name": "stdout",
     "output_type": "stream",
     "text": [
      "untoward christian exasperate perilous horrible passing contemptible\n",
      "gamesome candid subtly pitiable uncommon maddens reliable abundant\n",
      "impalpable few lazy loving domineering\n"
     ]
    }
   ],
   "source": [
    "text1.similar(\"monstrous\")"
   ]
  },
  {
   "cell_type": "markdown",
   "metadata": {},
   "source": [
    "下面输出untoward来验证一下，可以发现有些地方还是有相同的，比如：都是形容词，有时前面用most修饰。"
   ]
  },
  {
   "cell_type": "code",
   "execution_count": 9,
   "metadata": {
    "ExecuteTime": {
     "end_time": "2017-09-28T13:00:24.859551Z",
     "start_time": "2017-09-28T13:00:24.855552Z"
    }
   },
   "outputs": [
    {
     "name": "stdout",
     "output_type": "stream",
     "text": [
      "Displaying 3 of 3 matches:\n",
      "r in mind , too , that under these untoward circumstances he has to cut many f\n",
      ", in the teeth , too , of the most untoward and apparently hopeless impediment\n",
      "nted , perhaps , that every little untoward circumstance that befell him , and\n"
     ]
    }
   ],
   "source": [
    "text1.concordance(\"untoward\")"
   ]
  },
  {
   "cell_type": "markdown",
   "metadata": {},
   "source": [
    "函数common_contexts允许我们研究两个或两个以上的词共同的上下文."
   ]
  },
  {
   "cell_type": "code",
   "execution_count": 11,
   "metadata": {
    "ExecuteTime": {
     "end_time": "2017-09-28T16:50:57.807739Z",
     "start_time": "2017-09-28T16:50:57.795737Z"
    }
   },
   "outputs": [
    {
     "name": "stdout",
     "output_type": "stream",
     "text": [
      "most_and\n"
     ]
    }
   ],
   "source": [
    "text1.common_contexts([\"monstrous\",\"untoward\"])"
   ]
  },
  {
   "cell_type": "markdown",
   "metadata": {},
   "source": [
    "我们也可以判断词在文本中的位置：\n",
    "\n",
    "从文本开头算起在它前面有多少词。这个位置信息可以用离散图表示。\n",
    "\n",
    "每一个竖线代表一个单词，每一行代表整个文本。\n",
    "\n",
    "在下图我们看到在过去220年中的一些显著的词语用法模式（在一个由就职演说语料首尾相连的人为组合的文本中）。"
   ]
  },
  {
   "cell_type": "code",
   "execution_count": 12,
   "metadata": {
    "ExecuteTime": {
     "end_time": "2017-09-28T17:02:15.699376Z",
     "start_time": "2017-09-28T17:02:11.160681Z"
    }
   },
   "outputs": [
    {
     "data": {
      "image/png": "[encoded data removed]",
      "text/plain": [
       "<matplotlib.figure.Figure at 0x1fe0d1f90f0>"
      ]
     },
     "metadata": {},
     "output_type": "display_data"
    }
   ],
   "source": [
    "text4.dispersion_plot([\"citizens\", \"democracy\", \"freedom\", \"duties\", \"America\"])"
   ]
  },
  {
   "cell_type": "markdown",
   "metadata": {},
   "source": [
    "# 计数词汇"
   ]
  },
  {
   "cell_type": "code",
   "execution_count": 18,
   "metadata": {
    "ExecuteTime": {
     "end_time": "2017-09-28T18:24:29.367025Z",
     "start_time": "2017-09-28T18:24:29.196408Z"
    }
   },
   "outputs": [
    {
     "data": {
      "text/plain": [
       "(260819, 19317)"
      ]
     },
     "execution_count": 18,
     "metadata": {},
     "output_type": "execute_result"
    }
   ],
   "source": [
    "# 所有词数以及所有不重复的词的个数\n",
    "len(text1), len(set(text1))"
   ]
  },
  {
   "cell_type": "code",
   "execution_count": 22,
   "metadata": {
    "ExecuteTime": {
     "end_time": "2017-09-28T18:31:07.568347Z",
     "start_time": "2017-09-28T18:31:07.548333Z"
    }
   },
   "outputs": [
    {
     "data": {
      "text/plain": [
       "(10, 18713)"
      ]
     },
     "execution_count": 22,
     "metadata": {},
     "output_type": "execute_result"
    }
   ],
   "source": [
    "#计算词在文章出现的次数\n",
    "text1.count(\"monstrous\"),text1.count(\",\")"
   ]
  },
  {
   "cell_type": "markdown",
   "metadata": {},
   "source": [
    "# 词频统计"
   ]
  },
  {
   "cell_type": "code",
   "execution_count": null,
   "metadata": {
    "ExecuteTime": {
     "end_time": "2017-09-28T19:03:08.513831Z",
     "start_time": "2017-09-28T19:03:08.234789Z"
    }
   },
   "outputs": [],
   "source": [
    "# 得到频率统计，返回结果类似字典\n",
    "fdist = FreqDist(text1)\n",
    "fdist"
   ]
  },
  {
   "cell_type": "markdown",
   "metadata": {},
   "source": [
    "输出类似如下：\n",
    "```python\n",
    "FreqDist({'vehicle': 1,\n",
    "          'Whole': 1,\n",
    "          'sword': 23,\n",
    "          'maidenly': 1,\n",
    "          'night': 147,\n",
    "          'painter': 2,\n",
    "          'Full': 2,\n",
    "          'medals': 1,\n",
    "          'satisfied': 5,\n",
    "          'helped': 15,\n",
    "          'pyramids': 3,\n",
    "          ...\n",
    "         })\n",
    "```"
   ]
  },
  {
   "cell_type": "code",
   "execution_count": 41,
   "metadata": {
    "ExecuteTime": {
     "end_time": "2017-09-28T18:48:41.813258Z",
     "start_time": "2017-09-28T18:48:41.802242Z"
    }
   },
   "outputs": [
    {
     "data": {
      "text/plain": [
       "['Bench', 'vehicle', 'cheeks', 'refusing', 'burned']"
      ]
     },
     "execution_count": 41,
     "metadata": {},
     "output_type": "execute_result"
    }
   ],
   "source": [
    "# 得到所有词项\n",
    "vcb = fdist.keys()\n",
    "list(vcb)[0:5]"
   ]
  },
  {
   "cell_type": "code",
   "execution_count": 42,
   "metadata": {
    "ExecuteTime": {
     "end_time": "2017-09-28T18:49:51.941985Z",
     "start_time": "2017-09-28T18:49:51.936982Z"
    }
   },
   "outputs": [
    {
     "data": {
      "text/plain": [
       "906"
      ]
     },
     "execution_count": 42,
     "metadata": {},
     "output_type": "execute_result"
    }
   ],
   "source": [
    "#查询某个词的词频\n",
    "fdist['whale']"
   ]
  },
  {
   "cell_type": "code",
   "execution_count": 57,
   "metadata": {
    "ExecuteTime": {
     "end_time": "2017-09-28T20:38:39.482493Z",
     "start_time": "2017-09-28T20:38:39.473986Z"
    }
   },
   "outputs": [
    {
     "data": {
      "text/plain": [
       "0.003473673313677301"
      ]
     },
     "execution_count": 57,
     "metadata": {},
     "output_type": "execute_result"
    }
   ],
   "source": [
    "#查询某个词的频率\n",
    "fdist.freq('whale')"
   ]
  },
  {
   "cell_type": "code",
   "execution_count": 59,
   "metadata": {
    "ExecuteTime": {
     "end_time": "2017-09-28T20:39:02.003950Z",
     "start_time": "2017-09-28T20:39:01.989439Z"
    }
   },
   "outputs": [
    {
     "data": {
      "text/plain": [
       "','"
      ]
     },
     "execution_count": 59,
     "metadata": {},
     "output_type": "execute_result"
    }
   ],
   "source": [
    "#得到最高频率对应的词\n",
    "fdist.max()"
   ]
  },
  {
   "cell_type": "code",
   "execution_count": 60,
   "metadata": {
    "ExecuteTime": {
     "end_time": "2017-09-28T20:40:17.533892Z",
     "start_time": "2017-09-28T20:40:17.524885Z"
    }
   },
   "outputs": [
    {
     "data": {
      "text/plain": [
       "260819"
      ]
     },
     "execution_count": 60,
     "metadata": {},
     "output_type": "execute_result"
    }
   ],
   "source": [
    "#样本总数\n",
    "fdist.N()"
   ]
  },
  {
   "cell_type": "code",
   "execution_count": 47,
   "metadata": {
    "ExecuteTime": {
     "end_time": "2017-09-28T18:53:35.940045Z",
     "start_time": "2017-09-28T18:53:35.933040Z"
    }
   },
   "outputs": [
    {
     "data": {
      "text/plain": [
       "260819"
      ]
     },
     "execution_count": 47,
     "metadata": {},
     "output_type": "execute_result"
    }
   ],
   "source": [
    "len(text1)"
   ]
  },
  {
   "cell_type": "code",
   "execution_count": 45,
   "metadata": {
    "ExecuteTime": {
     "end_time": "2017-09-28T18:52:54.599106Z",
     "start_time": "2017-09-28T18:52:54.089420Z"
    }
   },
   "outputs": [
    {
     "data": {
      "image/png": "[encoded data removed]",
      "text/plain": [
       "<matplotlib.figure.Figure at 0x1fe15e29e10>"
      ]
     },
     "metadata": {},
     "output_type": "display_data"
    }
   ],
   "source": [
    "#50个最常用词的累积频率图，对比上面的text1的词的个数，发现这50个词几乎接近全文的46.01%\n",
    "fdist.plot(50, cumulative=True)"
   ]
  },
  {
   "cell_type": "code",
   "execution_count": 52,
   "metadata": {
    "ExecuteTime": {
     "end_time": "2017-09-28T18:58:12.034113Z",
     "start_time": "2017-09-28T18:58:12.015114Z"
    }
   },
   "outputs": [
    {
     "data": {
      "text/plain": [
       "['Bench', 'vehicle', 'refusing', 'maidenly', 'Whole', 'japonicas', 'Trumpet']"
      ]
     },
     "execution_count": 52,
     "metadata": {},
     "output_type": "execute_result"
    }
   ],
   "source": [
    "# Return a list of all samples that occur once (hapax legomena)\n",
    "fdist.hapaxes()[0:7]"
   ]
  },
  {
   "cell_type": "markdown",
   "metadata": {},
   "source": [
    "# 双连词\n",
    "\n",
    "文本中出现的搭配（应该可理解为双连词的子集）很能体现文本的风格。"
   ]
  },
  {
   "cell_type": "code",
   "execution_count": 56,
   "metadata": {
    "ExecuteTime": {
     "end_time": "2017-09-28T20:33:29.390148Z",
     "start_time": "2017-09-28T20:33:27.713513Z"
    }
   },
   "outputs": [
    {
     "name": "stdout",
     "output_type": "stream",
     "text": [
      "Sperm Whale; Moby Dick; White Whale; old man; Captain Ahab; sperm\n",
      "whale; Right Whale; Captain Peleg; New Bedford; Cape Horn; cried Ahab;\n",
      "years ago; lower jaw; never mind; Father Mapple; cried Stubb; chief\n",
      "mate; white whale; ivory leg; one hand\n"
     ]
    }
   ],
   "source": [
    "# 感觉应该是使用 bigrams 函数\n",
    "text1.collocations() "
   ]
  },
  {
   "cell_type": "markdown",
   "metadata": {},
   "source": [
    "# 聊天机器人"
   ]
  },
  {
   "cell_type": "code",
   "execution_count": 12,
   "metadata": {
    "ExecuteTime": {
     "end_time": "2017-09-28T23:51:17.333152Z",
     "start_time": "2017-09-28T23:51:17.325151Z"
    }
   },
   "outputs": [
    {
     "data": {
      "text/plain": [
       "[(<function nltk.chat.eliza.eliza_chat>, 'Eliza (psycho-babble)'),\n",
       " (<function nltk.chat.iesha.iesha_chat>, 'Iesha (teen anime junky)'),\n",
       " (<function nltk.chat.rude.rude_chat>, 'Rude (abusive bot)'),\n",
       " (<function nltk.chat.suntsu.suntsu_chat>, 'Suntsu (Chinese sayings)'),\n",
       " (<function nltk.chat.zen.zen_chat>, 'Zen (gems of wisdom)')]"
      ]
     },
     "execution_count": 12,
     "metadata": {},
     "output_type": "execute_result"
    }
   ],
   "source": [
    "nltk.chat.bots #查看有几个robot"
   ]
  },
  {
   "cell_type": "code",
   "execution_count": 13,
   "metadata": {
    "ExecuteTime": {
     "end_time": "2017-09-28T23:52:53.582829Z",
     "start_time": "2017-09-28T23:52:03.889687Z"
    }
   },
   "outputs": [
    {
     "name": "stdout",
     "output_type": "stream",
     "text": [
      "Talk to the program by typing in plain English, using normal upper-\n",
      "and lower-case letters and punctuation.  Enter \"quit\" when done.\n",
      "========================================================================\n",
      "You seek enlightenment?\n",
      ">NO\n",
      "If you know the enemy and know yourself, you need not fear the result of a hundred battles.\n",
      ">actually I fear.\n",
      "The art of war is of vital importance to the State.\n",
      ">well\n",
      "So in war, the way is to avoid what is strong and to strike at what is weak.\n",
      ">tell me more\n",
      "Appear at points which the enemy must hasten to defend; march swiftly to places where you are not expected.\n",
      ">quit\n",
      "Plan well\n"
     ]
    }
   ],
   "source": [
    "nltk.chat.suntsu_chat()"
   ]
  },
  {
   "cell_type": "code",
   "execution_count": 14,
   "metadata": {
    "ExecuteTime": {
     "end_time": "2017-09-28T23:54:44.503655Z",
     "start_time": "2017-09-28T23:53:18.901138Z"
    }
   },
   "outputs": [
    {
     "name": "stdout",
     "output_type": "stream",
     "text": [
      "Talk to the program by typing in plain English, using normal upper-\n",
      "and lower-case letters and punctuation.  Enter \"quit\" when done.\n",
      "========================================================================\n",
      "I suppose I should say hello.\n",
      ">hahaha, hello dear.\n",
      "Change the subject before I die of fatal boredom.\n",
      ">are you robot?\n",
      "I'm getting bored here. Become more interesting.\n",
      ">are you mad?\n",
      "Change the subject before I die of fatal boredom.\n",
      ">ok\n",
      "Change the subject before I die of fatal boredom.\n",
      ">could you change you manner? It is uncomfortable.\n",
      "Either become more thrilling or get lost, buddy.\n",
      ">well,ffff\n",
      "Either become more thrilling or get lost, buddy.\n",
      ">quit\n",
      "Change the subject before I die of fatal boredom.\n"
     ]
    }
   ],
   "source": [
    "nltk.chat.rude_chat()"
   ]
  },
  {
   "cell_type": "code",
   "execution_count": 17,
   "metadata": {
    "ExecuteTime": {
     "end_time": "2017-09-29T00:00:29.245787Z",
     "start_time": "2017-09-28T23:58:46.876632Z"
    }
   },
   "outputs": [
    {
     "name": "stdout",
     "output_type": "stream",
     "text": [
      "Therapist\n",
      "---------\n",
      "Talk to the program by typing in plain English, using normal upper-\n",
      "and lower-case letters and punctuation.  Enter \"quit\" when done.\n",
      "========================================================================\n",
      "Hello.  How are you feeling today?\n",
      ">very well, what about you?\n",
      "Perhaps the answer lies within yourself?\n",
      ">what? don't be so zen...\n",
      "Please consider whether you can answer your own question.\n",
      ">no\n",
      "I see.\n",
      ">really?\n",
      "Why don't you tell me?\n",
      ">well, the truth is ...\n",
      "How do you feel when you say that?\n",
      ">nothing.\n",
      "Can you elaborate on that?\n",
      ">no \n",
      "Can you elaborate on that?\n",
      ">mom says i have to go eat dinner now :,( bye!!\n",
      "How does that make you feel?\n",
      ">quit\n",
      "Good-bye.\n"
     ]
    }
   ],
   "source": [
    "nltk.chat.eliza_chat()"
   ]
  },
  {
   "cell_type": "code",
   "execution_count": 16,
   "metadata": {
    "ExecuteTime": {
     "end_time": "2017-09-28T23:58:22.728517Z",
     "start_time": "2017-09-28T23:55:19.715835Z"
    }
   },
   "outputs": [
    {
     "name": "stdout",
     "output_type": "stream",
     "text": [
      "Iesha the TeenBoT\n",
      "---------\n",
      "Talk to the program by typing in plain English, using normal upper-\n",
      "and lower-case letters and punctuation.  Enter \"quit\" when done.\n",
      "========================================================================\n",
      "hi!! i'm iesha! who r u??!\n",
      ">i am john, nice to meet you.\n",
      "ur funny! kekeke\n",
      ">u r too.\n",
      "i wish i was a kitty!! kekekeke ^_^\n",
      ">gagagaga\n",
      "boooooring! talk about something else! tell me wat u like!\n",
      ">i like talking to you.\n",
      "yay! talking to me is neat!\n",
      ">hahhahaha, are you a robot?\n",
      "booooring! how old r u?\n",
      ">eleven\n",
      "do u watch anime? i like sailor moon! ^_^\n",
      ">yep, i like Sponge Boy\n",
      "do u watch anime? i like sailor moon! ^_^\n",
      ">r u nut?\n",
      "man u ask lots of questions!\n",
      ">hahahhaha, i like talking to u, u r funny.\n",
      "boooooring! talk about something else! tell me wat u like!\n",
      ">no\n",
      "do u like anime?\n",
      ">no\n",
      "do u like anime?\n",
      ">well, i quit\n",
      "do u like anime?\n",
      ">quit\n",
      "mom says i have to go eat dinner now :,( bye!!\n"
     ]
    }
   ],
   "source": [
    "nltk.chat.iesha_chat()"
   ]
  },
  {
   "cell_type": "code",
   "execution_count": 9,
   "metadata": {
    "ExecuteTime": {
     "end_time": "2017-09-28T23:50:38.258621Z",
     "start_time": "2017-09-28T23:46:05.669514Z"
    }
   },
   "outputs": [
    {
     "name": "stdout",
     "output_type": "stream",
     "text": [
      "***************************************************************************\n",
      "                                Zen Chatbot!                               \n",
      "***************************************************************************\n",
      "         \"Look beyond mere words and letters - look into your mind\"        \n",
      "* Talk your way to truth with Zen Chatbot.\n",
      "* Type 'quit' when you have had enough.\n",
      "***************************************************************************\n",
      "Welcome, my child.\n",
      ">hello\n",
      "Greetings. I sense your mind is troubled. Tell me of your troubles.\n",
      ">well, I am wondering how to clam myself down so as to focus on study.\n",
      "The reverse side also has a reverse side.\n",
      ">what? could you explain that?\n",
      "If you intentionally pursue the answers to your questions, the answers become hard to see.\n",
      ">If I don't pursue it, my problems could not be resolve.\n",
      "Think not just of yourself, but of others.\n",
      ">well, you are really a kind of zen robot.....\n",
      "I pour out a cup of water. Is the cup empty?\n",
      ">who knows?\n",
      "The answer to your question cannot be told. It must be experienced.\n",
      ">well, I get it.\n",
      "The reverse side also has a reverse side.\n",
      ">The reverse side also has a reverse side.\n",
      "I pour out a cup of water. Is the cup empty?\n",
      ">The reverse side also has a reverse side.\n",
      "I pour out a cup of water. Is the cup empty?\n",
      ">I pour out a cup of water. Is the cup empty?\n",
      "The answer to your question cannot be told. It must be experienced.\n",
      ">well, enough.\n",
      "Random talk is useless.\n",
      ">yes, I should stay away from you.\n",
      "Is there certainty in an uncertain world?\n",
      ">quit\n",
      "Form is emptiness, and emptiness is form.\n"
     ]
    }
   ],
   "source": [
    "nltk.chat.zen_chat()"
   ]
  },
  {
   "cell_type": "markdown",
   "metadata": {},
   "source": [
    "# 附录1-关于list的一些操作\n",
    "## list相连"
   ]
  },
  {
   "cell_type": "code",
   "execution_count": 26,
   "metadata": {
    "ExecuteTime": {
     "end_time": "2017-09-28T18:37:59.211040Z",
     "start_time": "2017-09-28T18:37:59.203036Z"
    }
   },
   "outputs": [
    {
     "name": "stdout",
     "output_type": "stream",
     "text": [
      "['a', 'b', 'c', 'd']\n",
      "['a', 'b', 'c', 'd']\n"
     ]
    }
   ],
   "source": [
    "a = ['a', 'b', 'c'] \n",
    "b= ['d']\n",
    "####solution1\n",
    "print(a+b)\n",
    "####solution2\n",
    "a.extend(b)\n",
    "print(a)"
   ]
  },
  {
   "cell_type": "markdown",
   "metadata": {},
   "source": [
    "## 找到一个词第一次出现的索引"
   ]
  },
  {
   "cell_type": "code",
   "execution_count": 28,
   "metadata": {
    "ExecuteTime": {
     "end_time": "2017-09-28T18:40:23.361171Z",
     "start_time": "2017-09-28T18:40:23.354167Z"
    }
   },
   "outputs": [
    {
     "data": {
      "text/plain": [
       "1"
      ]
     },
     "execution_count": 28,
     "metadata": {},
     "output_type": "execute_result"
    }
   ],
   "source": [
    "c = ['c', 'a', 'a'] \n",
    "c.index('a')"
   ]
  },
  {
   "cell_type": "markdown",
   "metadata": {},
   "source": [
    "## 合并list中的所有字符串"
   ]
  },
  {
   "cell_type": "code",
   "execution_count": 29,
   "metadata": {
    "ExecuteTime": {
     "end_time": "2017-09-28T18:42:43.960485Z",
     "start_time": "2017-09-28T18:42:43.952482Z"
    }
   },
   "outputs": [
    {
     "data": {
      "text/plain": [
       "'axbxcxd'"
      ]
     },
     "execution_count": 29,
     "metadata": {},
     "output_type": "execute_result"
    }
   ],
   "source": [
    "\"x\".join(a) # x代表连接符"
   ]
  },
  {
   "cell_type": "markdown",
   "metadata": {},
   "source": [
    "#  附录2-常见的词比较运算函数\n",
    "\n",
    "```\n",
    "     函数            含义\n",
    "s.startswith(t) 测试 s 是否以 t 开头\n",
    "\n",
    "s.endswith(t)   测试 s 是否以 t 结尾\n",
    "\n",
    "t in s          测试 s 是否包含 t\n",
    "\n",
    "s.islower()     测试 s 中所有字符是否都是小写字母\n",
    "\n",
    "s.isupper()     测试 s 中所有字符是否都是大写字母\n",
    "\n",
    "s.isalpha()     测试 s 中所有字符是否都是字母\n",
    "\n",
    "s.isalnum()     测试 s 中所有字符是否都是字母或数字\n",
    "\n",
    "s.isdigit()     测试 s 中所有字符是否都是数字\n",
    "\n",
    "s.istitle()     测试 s 是否首字母大写（s 中所有的词都首字母大写）\n",
    "```\n"
   ]
  },
  {
   "cell_type": "code",
   "execution_count": null,
   "metadata": {
    "collapsed": true
   },
   "outputs": [],
   "source": []
  }
 ],
 "metadata": {
  "anaconda-cloud": {},
  "kernelspec": {
   "display_name": "Python [conda root]",
   "language": "python",
   "name": "conda-root-py"
  },
  "language_info": {
   "codemirror_mode": {
    "name": "ipython",
    "version": 3
   },
   "file_extension": ".py",
   "mimetype": "text/x-python",
   "name": "python",
   "nbconvert_exporter": "python",
   "pygments_lexer": "ipython3",
   "version": "3.5.2"
  },
  "toc": {
   "nav_menu": {},
   "number_sections": true,
   "sideBar": true,
   "skip_h1_title": false,
   "toc_cell": true,
   "toc_position": {},
   "toc_section_display": "block",
   "toc_window_display": true
  }
 },
 "nbformat": 4,
 "nbformat_minor": 2
}
