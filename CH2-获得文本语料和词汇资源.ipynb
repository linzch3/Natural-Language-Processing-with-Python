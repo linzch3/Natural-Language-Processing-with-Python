{
 "cells": [
  {
   "cell_type": "code",
   "execution_count": 120,
   "metadata": {
    "ExecuteTime": {
     "end_time": "2017-09-29T20:08:26.627685Z",
     "start_time": "2017-09-29T20:08:26.621181Z"
    },
    "collapsed": true
   },
   "outputs": [],
   "source": [
    "import nltk\n",
    "from nltk.book import *\n",
    "\n",
    "import pdir as pr\n",
    "\n",
    "from IPython.core.interactiveshell import InteractiveShell\n",
    "InteractiveShell.ast_node_interactivity = \"all\""
   ]
  },
  {
   "cell_type": "markdown",
   "metadata": {},
   "source": [
    "# 古腾堡语料库"
   ]
  },
  {
   "cell_type": "code",
   "execution_count": 7,
   "metadata": {
    "ExecuteTime": {
     "end_time": "2017-09-29T08:52:06.163472Z",
     "start_time": "2017-09-29T08:52:06.153467Z"
    }
   },
   "outputs": [
    {
     "data": {
      "text/plain": [
       "['austen-emma.txt',\n",
       " 'austen-persuasion.txt',\n",
       " 'austen-sense.txt',\n",
       " 'bible-kjv.txt',\n",
       " 'blake-poems.txt',\n",
       " 'bryant-stories.txt',\n",
       " 'burgess-busterbrown.txt',\n",
       " 'carroll-alice.txt',\n",
       " 'chesterton-ball.txt',\n",
       " 'chesterton-brown.txt',\n",
       " 'chesterton-thursday.txt',\n",
       " 'edgeworth-parents.txt',\n",
       " 'melville-moby_dick.txt',\n",
       " 'milton-paradise.txt',\n",
       " 'shakespeare-caesar.txt',\n",
       " 'shakespeare-hamlet.txt',\n",
       " 'shakespeare-macbeth.txt',\n",
       " 'whitman-leaves.txt']"
      ]
     },
     "execution_count": 7,
     "metadata": {},
     "output_type": "execute_result"
    }
   ],
   "source": [
    "from nltk.corpus import gutenberg\n",
    "nltk.corpus.gutenberg.fileids() #从古腾堡语料库中采取的所有文件"
   ]
  },
  {
   "cell_type": "code",
   "execution_count": 8,
   "metadata": {
    "ExecuteTime": {
     "end_time": "2017-09-29T08:52:12.241577Z",
     "start_time": "2017-09-29T08:52:12.232568Z"
    }
   },
   "outputs": [
    {
     "data": {
      "text/plain": [
       "['[', 'Emma', 'by', 'Jane', 'Austen', '1816', ']', ...]"
      ]
     },
     "execution_count": 8,
     "metadata": {},
     "output_type": "execute_result"
    }
   ],
   "source": [
    "emma = gutenberg.words('austen-emma.txt') #得到特定文本的内容\n",
    "emma"
   ]
  },
  {
   "cell_type": "code",
   "execution_count": 9,
   "metadata": {
    "ExecuteTime": {
     "end_time": "2017-09-29T08:52:18.436886Z",
     "start_time": "2017-09-29T08:52:17.904310Z"
    }
   },
   "outputs": [
    {
     "data": {
      "text/plain": [
       "<Text: Emma by Jane Austen 1816>"
      ]
     },
     "execution_count": 9,
     "metadata": {},
     "output_type": "execute_result"
    }
   ],
   "source": [
    "#如果要想像第CH1中的那样使用text1.concordance()这样的命令，就需要这样写\n",
    "emma_text = nltk.Text(gutenberg.words('austen-emma.txt')) #得到特定文本的内容\n",
    "emma_text"
   ]
  },
  {
   "cell_type": "code",
   "execution_count": 15,
   "metadata": {
    "ExecuteTime": {
     "end_time": "2017-09-29T08:56:04.245414Z",
     "start_time": "2017-09-29T08:56:04.233406Z"
    }
   },
   "outputs": [
    {
     "data": {
      "text/plain": [
       "['Project Gutenberg Selections',\n",
       " 'http://gutenberg.net/',\n",
       " '',\n",
       " 'This corpus contains etexts from from Project Gutenberg,',\n",
       " 'by the following authors:',\n",
       " '',\n",
       " '* Jane Austen (3)',\n",
       " '* William Blake (2)',\n",
       " '* Thornton W. Burgess',\n",
       " '* Sarah Cone Bryant',\n",
       " '* Lewis Carroll',\n",
       " '* G. K. Chesterton (3)',\n",
       " '* Maria Edgeworth',\n",
       " '* King James Bible',\n",
       " '* Herman Melville',\n",
       " '* John Milton',\n",
       " '* William Shakespeare (3)',\n",
       " '* Walt Whitman',\n",
       " '',\n",
       " 'The beginning of the body of each book could not be identified automatically,',\n",
       " 'so the semi-generic header of each file has been removed, and included below.',\n",
       " 'Some source files ended with a line \"End of The Project Gutenberg Etext...\",',\n",
       " 'and this has been deleted.',\n",
       " '',\n",
       " 'Information about Project Gutenberg (one page)',\n",
       " '',\n",
       " 'We produce about two million dollars for each hour we work.  The',\n",
       " 'fifty hours is one conservative estimate for how long it we take',\n",
       " 'to get any etext selected, entered, proofread, edited, copyright',\n",
       " 'searched and analyzed, the copyright letters written, etc.  This',\n",
       " 'projected audience is one hundred million readers.  If our value',\n",
       " 'per text is nominally estimated at one dollar, then we produce 2',\n",
       " 'million dollars per hour this year we, will have to do four text',\n",
       " 'files per month:  thus upping our productivity from one million.',\n",
       " 'The Goal of Project Gutenberg is to Give Away One Trillion Etext',\n",
       " 'Files by the December 31, 2001.  [10,000 x 100,000,000=Trillion]',\n",
       " 'This is ten thousand titles each to one hundred million readers,',\n",
       " 'which is 10% of the expected number of computer users by the end',\n",
       " 'of the year 2001.',\n",
       " '',\n",
       " 'We need your donations more than ever!',\n",
       " '',\n",
       " 'All donations should be made to \"Project Gutenberg/IBC\", and are',\n",
       " 'tax deductible to the extent allowable by law (\"IBC\" is Illinois',\n",
       " 'Benedictine College).  (Subscriptions to our paper newsletter go',\n",
       " 'to IBC, too)',\n",
       " '',\n",
       " 'For these and other matters, please mail to:',\n",
       " '',\n",
       " 'Project Gutenberg',\n",
       " 'P. O. Box  2782',\n",
       " 'Champaign, IL 61825',\n",
       " '',\n",
       " 'When all other email fails try our Michael S. Hart, Executive',\n",
       " 'Director:',\n",
       " 'hart@vmd.cso.uiuc.edu (internet)   hart@uiucvmd   (bitnet)',\n",
       " '',\n",
       " 'We would prefer to send you this information by email',\n",
       " '(Internet, Bitnet, Compuserve, ATTMAIL or MCImail).',\n",
       " '',\n",
       " '******',\n",
       " 'If you have an FTP program (or emulator), please',\n",
       " 'FTP directly to the Project Gutenberg archives:',\n",
       " '[Mac users, do NOT point and click. . .type]',\n",
       " '',\n",
       " 'ftp mrcnext.cso.uiuc.edu',\n",
       " 'login:  anonymous',\n",
       " 'password:  your@login',\n",
       " 'cd etext/etext91',\n",
       " 'or cd etext92',\n",
       " 'or cd etext93 [for new books]  [now also in cd etext/etext93]',\n",
       " 'or cd etext/articles [get suggest gut for more information]',\n",
       " 'dir [to see files]',\n",
       " 'get or mget [to get files. . .set bin for zip files]',\n",
       " 'get INDEX100.GUT',\n",
       " 'get INDEX200.GUT',\n",
       " 'for a list of books',\n",
       " 'and',\n",
       " 'get NEW.GUT for general information',\n",
       " 'and',\n",
       " 'mget GUT* for newsletters.',\n",
       " '',\n",
       " '**Information prepared by the Project Gutenberg legal advisor**',\n",
       " '(Three Pages)',\n",
       " '',\n",
       " '',\n",
       " '***START**THE SMALL PRINT!**FOR PUBLIC DOMAIN ETEXTS**START***',\n",
       " 'Why is this \"Small Print!\" statement here?  You know: lawyers.',\n",
       " 'They tell us you might sue us if there is something wrong with',\n",
       " 'your copy of this etext, even if you got it for free from',\n",
       " \"someone other than us, and even if what's wrong is not our\",\n",
       " 'fault.  So, among other things, this \"Small Print!\" statement',\n",
       " 'disclaims most of our liability to you.  It also tells you how',\n",
       " 'you can distribute copies of this etext if you want to.',\n",
       " '',\n",
       " '*BEFORE!* YOU USE OR READ THIS ETEXT',\n",
       " 'By using or reading any part of this PROJECT GUTENBERG-tm',\n",
       " 'etext, you indicate that you understand, agree to and accept',\n",
       " 'this \"Small Print!\" statement.  If you do not, you can receive',\n",
       " 'a refund of the money (if any) you paid for this etext by',\n",
       " 'sending a request within 30 days of receiving it to the person',\n",
       " 'you got it from.  If you received this etext on a physical',\n",
       " 'medium (such as a disk), you must return it with your request.',\n",
       " '',\n",
       " 'ABOUT PROJECT GUTENBERG-TM ETEXTS',\n",
       " 'This PROJECT GUTENBERG-tm etext, like most PROJECT GUTENBERG-',\n",
       " 'tm etexts, is a \"public domain\" work distributed by Professor',\n",
       " 'Michael S. Hart through the Project Gutenberg Association at',\n",
       " 'Illinois Benedictine College (the \"Project\").  Among other',\n",
       " 'things, this means that no one owns a United States copyright',\n",
       " 'on or for this work, so the Project (and you!) can copy and',\n",
       " 'distribute it in the United States without permission and',\n",
       " 'without paying copyright royalties.  Special rules, set forth',\n",
       " 'below, apply if you wish to copy and distribute this etext',\n",
       " 'under the Project\\'s \"PROJECT GUTENBERG\" trademark.',\n",
       " '',\n",
       " 'To create these etexts, the Project expends considerable',\n",
       " 'efforts to identify, transcribe and proofread public domain',\n",
       " \"works.  Despite these efforts, the Project's etexts and any\",\n",
       " 'medium they may be on may contain \"Defects\".  Among other',\n",
       " 'things, Defects may take the form of incomplete, inaccurate or',\n",
       " 'corrupt data, transcription errors, a copyright or other',\n",
       " 'intellectual property infringement, a defective or damaged',\n",
       " 'disk or other etext medium, a computer virus, or computer',\n",
       " 'codes that damage or cannot be read by your equipment.',\n",
       " '',\n",
       " 'LIMITED WARRANTY; DISCLAIMER OF DAMAGES',\n",
       " 'But for the \"Right of Replacement or Refund\" described below,',\n",
       " '[1] the Project (and any other party you may receive this',\n",
       " 'etext from as a PROJECT GUTENBERG-tm etext) disclaims all',\n",
       " 'liability to you for damages, costs and expenses, including',\n",
       " 'legal fees, and [2] YOU HAVE NO REMEDIES FOR NEGLIGENCE OR',\n",
       " 'UNDER STRICT LIABILITY, OR FOR BREACH OF WARRANTY OR CONTRACT,',\n",
       " 'INCLUDING BUT NOT LIMITED TO INDIRECT, CONSEQUENTIAL, PUNITIVE',\n",
       " 'OR INCIDENTAL DAMAGES, EVEN IF YOU GIVE NOTICE OF THE',\n",
       " 'POSSIBILITY OF SUCH DAMAGES.',\n",
       " '',\n",
       " 'If you discover a Defect in this etext within 90 days of',\n",
       " 'receiving it, you can receive a refund of the money (if any)',\n",
       " 'you paid for it by sending an explanatory note within that',\n",
       " 'time to the person you received it from.  If you received it',\n",
       " 'on a physical medium, you must return it with your note, and',\n",
       " 'such person may choose to alternatively give you a replacement',\n",
       " 'copy.  If you received it electronically, such person may',\n",
       " 'choose to alternatively give you a second opportunity to',\n",
       " 'receive it electronically.',\n",
       " '',\n",
       " 'THIS ETEXT IS OTHERWISE PROVIDED TO YOU \"AS-IS\".  NO OTHER',\n",
       " 'WARRANTIES OF ANY KIND, EXPRESS OR IMPLIED, ARE MADE TO YOU AS',\n",
       " 'TO THE ETEXT OR ANY MEDIUM IT MAY BE ON, INCLUDING BUT NOT',\n",
       " 'LIMITED TO WARRANTIES OF MERCHANTABILITY OR FITNESS FOR A',\n",
       " 'PARTICULAR PURPOSE.',\n",
       " '',\n",
       " 'Some states do not allow disclaimers of implied warranties or',\n",
       " 'the exclusion or limitation of consequential damages, so the',\n",
       " 'above disclaimers and exclusions may not apply to you, and you',\n",
       " 'may have other legal rights.',\n",
       " '',\n",
       " 'INDEMNITY',\n",
       " 'You will indemnify and hold the Project, its directors,',\n",
       " 'officers, members and agents harmless from all liability, cost',\n",
       " 'and expense, including legal fees, that arise directly or',\n",
       " 'indirectly from any of the following that you do or cause:',\n",
       " '[1] distribution of this etext, [2] alteration, modification,',\n",
       " 'or addition to the etext, or [3] any Defect.',\n",
       " '',\n",
       " 'DISTRIBUTION UNDER \"PROJECT GUTENBERG-tm\"',\n",
       " 'You may distribute copies of this etext electronically, or by',\n",
       " 'disk, book or any other medium if you either delete this',\n",
       " '\"Small Print!\" and all other references to Project Gutenberg,',\n",
       " 'or:',\n",
       " '',\n",
       " '[1]  Only give exact copies of it.  Among other things, this',\n",
       " '     requires that you do not remove, alter or modify the',\n",
       " '     etext or this \"small print!\" statement.  You may however,',\n",
       " '     if you wish, distribute this etext in machine readable',\n",
       " '     binary, compressed, mark-up, or proprietary form,',\n",
       " '     including any form resulting from conversion by word pro-',\n",
       " '     cessing or hypertext software, but only so long as',\n",
       " '     *EITHER*:',\n",
       " '',\n",
       " '     [*]  The etext, when displayed, is clearly readable, and',\n",
       " '          does *not* contain characters other than those',\n",
       " '          intended by the author of the work, although tilde',\n",
       " '          (~), asterisk (*) and underline (_) characters may',\n",
       " '          be used to convey punctuation intended by the',\n",
       " '          author, and additional characters may be used to',\n",
       " '          indicate hypertext links; OR',\n",
       " '',\n",
       " '     [*]  The etext may be readily converted by the reader at',\n",
       " '          no expense into plain ASCII, EBCDIC or equivalent',\n",
       " '          form by the program that displays the etext (as is',\n",
       " '          the case, for instance, with most word processors);',\n",
       " '          OR',\n",
       " '',\n",
       " '     [*]  You provide, or agree to also provide on request at',\n",
       " '          no additional cost, fee or expense, a copy of the',\n",
       " '          etext in its original plain ASCII form (or in EBCDIC',\n",
       " '          or other equivalent proprietary form).',\n",
       " '',\n",
       " '[2]  Honor the etext refund and replacement provisions of this',\n",
       " '     \"Small Print!\" statement.',\n",
       " '',\n",
       " '[3]  Pay a trademark license fee to the Project of 20% of the',\n",
       " '     net profits you derive calculated using the method you',\n",
       " '     already use to calculate your applicable taxes.  If you',\n",
       " \"     don't derive profits, no royalty is due.  Royalties are\",\n",
       " '     payable to \"Project Gutenberg Association / Illinois',\n",
       " '     Benedictine College\" within the 60 days following each',\n",
       " '     date you prepare (or were legally required to prepare)',\n",
       " '     your annual (or equivalent periodic) tax return.',\n",
       " '',\n",
       " \"WHAT IF YOU *WANT* TO SEND MONEY EVEN IF YOU DON'T HAVE TO?\",\n",
       " 'The Project gratefully accepts contributions in money, time,',\n",
       " 'scanning machines, OCR software, public domain etexts, royalty',\n",
       " 'free copyright licenses, and every other sort of contribution',\n",
       " 'you can think of.  Money should be paid to \"Project Gutenberg',\n",
       " 'Association / Illinois Benedictine College\".',\n",
       " '',\n",
       " 'This \"Small Print!\" by Charles B. Kramer, Attorney',\n",
       " 'Internet (72600.2026@compuserve.com); TEL: (212-254-5093)',\n",
       " '*END*THE SMALL PRINT! FOR PUBLIC DOMAIN ETEXTS*Ver.04.29.93*END*',\n",
       " '']"
      ]
     },
     "execution_count": 15,
     "metadata": {},
     "output_type": "execute_result"
    }
   ],
   "source": [
    "gutenberg.readme().split('\\n') #对应的readme文件，可了解该计划是啥东西"
   ]
  },
  {
   "cell_type": "code",
   "execution_count": 20,
   "metadata": {
    "ExecuteTime": {
     "end_time": "2017-09-29T09:03:22.723702Z",
     "start_time": "2017-09-29T09:03:22.716174Z"
    }
   },
   "outputs": [
    {
     "data": {
      "text/plain": [
       "\u001b[0;33mabstract class:\u001b[0m\n",
       "    \u001b[0;36m__subclasshook__\u001b[0m\n",
       "\u001b[0;33mattribute access:\u001b[0m\n",
       "    \u001b[0;36m__delattr__\u001b[0m\u001b[1;30m, \u001b[0m\u001b[0;36m__dir__\u001b[0m\u001b[1;30m, \u001b[0m\u001b[0;36m__getattribute__\u001b[0m\u001b[1;30m, \u001b[0m\u001b[0;36m__setattr__\u001b[0m\n",
       "\u001b[0;33mobject customization:\u001b[0m\n",
       "    \u001b[0;36m__format__\u001b[0m\u001b[1;30m, \u001b[0m\u001b[0;36m__hash__\u001b[0m\u001b[1;30m, \u001b[0m\u001b[0;36m__init__\u001b[0m\u001b[1;30m, \u001b[0m\u001b[0;36m__new__\u001b[0m\u001b[1;30m, \u001b[0m\u001b[0;36m__repr__\u001b[0m\u001b[1;30m, \u001b[0m\u001b[0;36m__sizeof__\u001b[0m\u001b[1;30m, \u001b[0m\u001b[0;36m__str__\u001b[0m\n",
       "\u001b[0;33mother:\u001b[0m\n",
       "    \u001b[0;36m_encoding\u001b[0m\u001b[1;30m, \u001b[0m\u001b[0;36m_fileids\u001b[0m\u001b[1;30m, \u001b[0m\u001b[0;36m_root\u001b[0m\u001b[1;30m, \u001b[0m\u001b[0;36m_sent_tokenizer\u001b[0m\u001b[1;30m, \u001b[0m\u001b[0;36m_tagset\u001b[0m\u001b[1;30m, \u001b[0m\u001b[0;36m_word_tokenizer\u001b[0m\n",
       "\u001b[0;33mpickle:\u001b[0m\n",
       "    \u001b[0;36m__reduce__\u001b[0m\u001b[1;30m, \u001b[0m\u001b[0;36m__reduce_ex__\u001b[0m\n",
       "\u001b[0;33mrich comparison:\u001b[0m\n",
       "    \u001b[0;36m__eq__\u001b[0m\u001b[1;30m, \u001b[0m\u001b[0;36m__ge__\u001b[0m\u001b[1;30m, \u001b[0m\u001b[0;36m__gt__\u001b[0m\u001b[1;30m, \u001b[0m\u001b[0;36m__le__\u001b[0m\u001b[1;30m, \u001b[0m\u001b[0;36m__lt__\u001b[0m\u001b[1;30m, \u001b[0m\u001b[0;36m__ne__\u001b[0m\n",
       "\u001b[0;33mspecial attribute:\u001b[0m\n",
       "    \u001b[0;36m__class__\u001b[0m\u001b[1;30m, \u001b[0m\u001b[0;36m__dict__\u001b[0m\u001b[1;30m, \u001b[0m\u001b[0;36m__doc__\u001b[0m\u001b[1;30m, \u001b[0m\u001b[0;36m__module__\u001b[0m\u001b[1;30m, \u001b[0m\u001b[0;36m__weakref__\u001b[0m\n",
       "\u001b[0;33mdescriptor:\u001b[0m\n",
       "    \u001b[0;36m__unicode__:\u001b[0m \u001b[1;30mclass wrapper_descriptor with getter, Return str(self).\u001b[0m\n",
       "    \u001b[0;36mroot:\u001b[0m \u001b[1;30m@property with getter, The directory where this corpus is stored.\u001b[0m\n",
       "\u001b[0;33mclass:\u001b[0m\n",
       "    \u001b[0;36mCorpusView:\u001b[0m \u001b[1;30mA 'view' of a corpus file, which acts like a sequence of tokens:\u001b[0m\n",
       "\u001b[0;33mfunction:\u001b[0m\n",
       "    \u001b[0;36m_get_root:\u001b[0m \u001b[1;30m\u001b[0m\n",
       "    \u001b[0;36m_para_block_reader:\u001b[0m \u001b[1;30m\u001b[0m\n",
       "    \u001b[0;36m_read_para_block:\u001b[0m \u001b[1;30m\u001b[0m\n",
       "    \u001b[0;36m_read_sent_block:\u001b[0m \u001b[1;30m\u001b[0m\n",
       "    \u001b[0;36m_read_word_block:\u001b[0m \u001b[1;30m\u001b[0m\n",
       "    \u001b[0;36m_unload:\u001b[0m \u001b[1;30m\u001b[0m\n",
       "    \u001b[0;36mabspath:\u001b[0m \u001b[1;30mReturn the absolute path for the given file.\u001b[0m\n",
       "    \u001b[0;36mabspaths:\u001b[0m \u001b[1;30mReturn a list of the absolute paths for all fileids in this corpus;\u001b[0m\n",
       "    \u001b[0;36mcitation:\u001b[0m \u001b[1;30mReturn the contents of the corpus citation.bib file, if it exists.\u001b[0m\n",
       "    \u001b[0;36mencoding:\u001b[0m \u001b[1;30mReturn the unicode encoding for the given corpus file, if known.\u001b[0m\n",
       "    \u001b[0;36mensure_loaded:\u001b[0m \u001b[1;30mLoad this corpus (if it has not already been loaded).  This is\u001b[0m\n",
       "    \u001b[0;36mfileids:\u001b[0m \u001b[1;30mReturn a list of file identifiers for the fileids that make up\u001b[0m\n",
       "    \u001b[0;36mlicense:\u001b[0m \u001b[1;30mReturn the contents of the corpus LICENSE file, if it exists.\u001b[0m\n",
       "    \u001b[0;36mopen:\u001b[0m \u001b[1;30mReturn an open stream that can be used to read the given file.\u001b[0m\n",
       "    \u001b[0;36mparas:\u001b[0m \u001b[1;30m:return: the given file(s) as a list of\u001b[0m\n",
       "    \u001b[0;36mraw:\u001b[0m \u001b[1;30m:return: the given file(s) as a single string.\u001b[0m\n",
       "    \u001b[0;36mreadme:\u001b[0m \u001b[1;30mReturn the contents of the corpus README file, if it exists.\u001b[0m\n",
       "    \u001b[0;36msents:\u001b[0m \u001b[1;30m:return: the given file(s) as a list of\u001b[0m\n",
       "    \u001b[0;36municode_repr:\u001b[0m \u001b[1;30mReturn repr(self).\u001b[0m\n",
       "    \u001b[0;36mwords:\u001b[0m \u001b[1;30m:return: the given file(s) as a list of words\u001b[0m"
      ]
     },
     "execution_count": 20,
     "metadata": {},
     "output_type": "execute_result"
    }
   ],
   "source": [
    "pr(gutenberg) #更多功能"
   ]
  },
  {
   "cell_type": "markdown",
   "metadata": {},
   "source": [
    "# 网络和聊天文本\n",
    "\n",
    "虽然古腾堡项目包含成千上万的书籍，它代表既定的文学。考虑较不正式的语言也是\n",
    "很重要的。NLTK 的网络文本小集合的内容包括 Firefox 交流论坛，在纽约无意听到的对话，\n",
    "《加勒比海盗》的电影剧本，个人广告和葡萄酒的评论"
   ]
  },
  {
   "cell_type": "code",
   "execution_count": 22,
   "metadata": {
    "ExecuteTime": {
     "end_time": "2017-09-29T09:08:48.366717Z",
     "start_time": "2017-09-29T09:08:48.358711Z"
    }
   },
   "outputs": [
    {
     "data": {
      "text/plain": [
       "['firefox.txt',\n",
       " 'grail.txt',\n",
       " 'overheard.txt',\n",
       " 'pirates.txt',\n",
       " 'singles.txt',\n",
       " 'wine.txt']"
      ]
     },
     "execution_count": 22,
     "metadata": {},
     "output_type": "execute_result"
    }
   ],
   "source": [
    "from nltk.corpus import webtext\n",
    "webtext.fileids()"
   ]
  },
  {
   "cell_type": "markdown",
   "metadata": {},
   "source": [
    "还有一个即时消息聊天会话语料库，最初由美国海军研究生院为研究自动检测互联网幼\n",
    "童虐待癖而收集的。语料库包含超过 10,000 张帖子，以“UserNNN”形式的通用名替换掉\n",
    "用户名，手工编辑消除任何其他身份信息，制作而成。语料库被分成 15 个文件，每个文件\n",
    "包含几百个按特定日期和特定年龄的聊天室（青少年、20 岁、30 岁、40 岁、再加上一个通\n",
    "用的成年人聊天室）收集的帖子。文件名中包含日期、聊天室和帖子数量，例如：10-19-\n",
    "20s_706posts.xml 包含 2006 年 10 月 19 日从 20 多岁聊天室收集的 706 个帖子。"
   ]
  },
  {
   "cell_type": "code",
   "execution_count": 24,
   "metadata": {
    "ExecuteTime": {
     "end_time": "2017-09-29T09:11:14.966879Z",
     "start_time": "2017-09-29T09:11:14.944359Z"
    }
   },
   "outputs": [
    {
     "data": {
      "text/plain": [
       "\"i do n't want hot pics of a female , I can look in a mirror .\""
      ]
     },
     "execution_count": 24,
     "metadata": {},
     "output_type": "execute_result"
    }
   ],
   "source": [
    "from nltk.corpus import nps_chat\n",
    "chatroom = nps_chat.posts('10-19-20s_706posts.xml')\n",
    "\" \".join(chatroom[123])"
   ]
  },
  {
   "cell_type": "markdown",
   "metadata": {},
   "source": [
    "# 布朗语料库\n",
    "\n",
    "布朗语料库是第一个百万词级的英语电子语料库的，由布朗大学于 1961 年创建。这个\n",
    "语料库包含 500 个不同来源的文本，按照文体分类，如：新闻、社论等。详细文体例子表格见：http://clu.uni.no/icame/brown/bcm-los.html 。\n",
    "\n",
    "例子：\n",
    "\n",
    "```\n",
    "ID 文件 文体 描述\n",
    "A16 ca16 新闻 news Chicago Tribune: Society Reportage\n",
    "B02 cb02 社论 editorial Christian Science Monitor: Editorials\n",
    "C17 cc17 评论 reviews Time Magazine: Reviews\n",
    "```"
   ]
  },
  {
   "cell_type": "code",
   "execution_count": 25,
   "metadata": {
    "ExecuteTime": {
     "end_time": "2017-09-29T09:13:43.923456Z",
     "start_time": "2017-09-29T09:13:43.524209Z"
    }
   },
   "outputs": [
    {
     "data": {
      "text/plain": [
       "['adventure',\n",
       " 'belles_lettres',\n",
       " 'editorial',\n",
       " 'fiction',\n",
       " 'government',\n",
       " 'hobbies',\n",
       " 'humor',\n",
       " 'learned',\n",
       " 'lore',\n",
       " 'mystery',\n",
       " 'news',\n",
       " 'religion',\n",
       " 'reviews',\n",
       " 'romance',\n",
       " 'science_fiction']"
      ]
     },
     "execution_count": 25,
     "metadata": {},
     "output_type": "execute_result"
    }
   ],
   "source": [
    "from nltk.corpus import brown\n",
    "brown.categories()"
   ]
  },
  {
   "cell_type": "code",
   "execution_count": 26,
   "metadata": {
    "ExecuteTime": {
     "end_time": "2017-09-29T09:14:26.175933Z",
     "start_time": "2017-09-29T09:14:25.877689Z"
    }
   },
   "outputs": [
    {
     "data": {
      "text/plain": [
       "['The', 'Fulton', 'County', 'Grand', 'Jury', 'said', ...]"
      ]
     },
     "execution_count": 26,
     "metadata": {},
     "output_type": "execute_result"
    }
   ],
   "source": [
    "brown.words(categories='news')"
   ]
  },
  {
   "cell_type": "code",
   "execution_count": 27,
   "metadata": {
    "ExecuteTime": {
     "end_time": "2017-09-29T09:14:48.930128Z",
     "start_time": "2017-09-29T09:14:48.852012Z"
    }
   },
   "outputs": [
    {
     "data": {
      "text/plain": [
       "['Does', 'our', 'society', 'have', 'a', 'runaway', ',', ...]"
      ]
     },
     "execution_count": 27,
     "metadata": {},
     "output_type": "execute_result"
    }
   ],
   "source": [
    "brown.words(fileids=['cg22'])"
   ]
  },
  {
   "cell_type": "markdown",
   "metadata": {},
   "source": [
    "布朗语料库是一个研究文体之间的系统性差异——一种叫做文体学的语言学研究——\n",
    "很方便的资源。比如我们可以比较不同文体中的情态动词的用法。"
   ]
  },
  {
   "cell_type": "code",
   "execution_count": 29,
   "metadata": {
    "ExecuteTime": {
     "end_time": "2017-09-29T09:18:18.109550Z",
     "start_time": "2017-09-29T09:18:17.623549Z"
    }
   },
   "outputs": [
    {
     "name": "stdout",
     "output_type": "stream",
     "text": [
      "can: 94\n",
      "could: 87\n",
      "may: 93\n",
      "might: 38\n",
      "must: 53\n",
      "will: 389\n"
     ]
    }
   ],
   "source": [
    "news_text = brown.words(categories='news')\n",
    "fdist = nltk.FreqDist([w.lower() for w in news_text])\n",
    "modals = ['can', 'could', 'may', 'might', 'must', 'will']\n",
    "for m in modals:\n",
    "    print(m + ':', fdist[m])"
   ]
  },
  {
   "cell_type": "markdown",
   "metadata": {
    "ExecuteTime": {
     "end_time": "2017-09-29T09:20:57.097869Z",
     "start_time": "2017-09-29T09:20:57.090865Z"
    }
   },
   "source": [
    "使用 NLTK 提供的带条件的频率分布函数来统计每一个感兴趣的文体。\n",
    "\n",
    "可见，新闻文体中最常见的情态动词是 will，而言情文体中最常见的情态动词是 could。"
   ]
  },
  {
   "cell_type": "code",
   "execution_count": 125,
   "metadata": {
    "ExecuteTime": {
     "end_time": "2017-09-29T20:17:06.982377Z",
     "start_time": "2017-09-29T20:16:57.613363Z"
    }
   },
   "outputs": [
    {
     "name": "stdout",
     "output_type": "stream",
     "text": [
      "                  can could   may might  must  will \n",
      "           news    93    86    66    38    50   389 \n",
      "       religion    82    59    78    12    54    71 \n",
      "        hobbies   268    58   131    22    83   264 \n",
      "science_fiction    16    49     4    12     8    16 \n",
      "        romance    74   193    11    51    45    43 \n",
      "          humor    16    30     8     8     9    13 \n"
     ]
    }
   ],
   "source": [
    "cfdist = nltk.ConditionalFreqDist(\n",
    "            (genre, word)\n",
    "            for genre in brown.categories()\n",
    "            for word in brown.words(categories=genre))\n",
    "\n",
    "genres = ['news', 'religion', 'hobbies', 'science_fiction', 'romance', 'humor']\n",
    "modals = ['can', 'could', 'may', 'might', 'must', 'will']\n",
    "cfdist.tabulate(conditions=genres, samples=modals)"
   ]
  },
  {
   "cell_type": "code",
   "execution_count": 127,
   "metadata": {
    "ExecuteTime": {
     "end_time": "2017-09-29T20:17:21.811213Z",
     "start_time": "2017-09-29T20:17:21.799221Z"
    }
   },
   "outputs": [
    {
     "data": {
      "text/plain": [
       "'the'"
      ]
     },
     "execution_count": 127,
     "metadata": {},
     "output_type": "execute_result"
    }
   ],
   "source": [
    "cfdist['news'].max() #最可能出现的词"
   ]
  },
  {
   "cell_type": "markdown",
   "metadata": {},
   "source": [
    "# 路透社语料库\n",
    "\n",
    "路透社语料库包含 10,788 个新闻文档，共计 130 万字。这些文档分成 90 个主题，按照\n",
    "“训练”和“测试”分为两组。\n",
    "\n",
    "因此，fileid包含test的文档属于测试组，而包含training的为训练组。这样分割\n",
    "是为了训练和测试算法的，这种算法自动检测文档的主题"
   ]
  },
  {
   "cell_type": "code",
   "execution_count": 51,
   "metadata": {
    "ExecuteTime": {
     "end_time": "2017-09-29T11:51:10.672514Z",
     "start_time": "2017-09-29T11:51:10.664988Z"
    }
   },
   "outputs": [
    {
     "data": {
      "text/plain": [
       "('test/14826', 'training/9995')"
      ]
     },
     "execution_count": 51,
     "metadata": {},
     "output_type": "execute_result"
    }
   ],
   "source": [
    "from nltk.corpus import reuters\n",
    "reuters.fileids()[0],reuters.fileids()[-1] #所有的文件名"
   ]
  },
  {
   "cell_type": "code",
   "execution_count": 59,
   "metadata": {
    "ExecuteTime": {
     "end_time": "2017-09-29T12:03:59.150257Z",
     "start_time": "2017-09-29T12:03:59.142246Z"
    },
    "scrolled": true
   },
   "outputs": [
    {
     "data": {
      "text/plain": [
       "['acq', 'alum', 'barley', 'bop', 'carcass']"
      ]
     },
     "execution_count": 59,
     "metadata": {},
     "output_type": "execute_result"
    }
   ],
   "source": [
    "reuters.categories()[0:5] #所有的分类"
   ]
  },
  {
   "cell_type": "code",
   "execution_count": 61,
   "metadata": {
    "ExecuteTime": {
     "end_time": "2017-09-29T12:05:47.536760Z",
     "start_time": "2017-09-29T12:05:47.508758Z"
    }
   },
   "outputs": [
    {
     "data": {
      "text/plain": [
       "['barley', 'corn', 'grain', 'wheat']"
      ]
     },
     "execution_count": 61,
     "metadata": {},
     "output_type": "execute_result"
    },
    {
     "data": {
      "text/plain": [
       "['barley', 'corn', 'grain', 'money-fx', 'wheat']"
      ]
     },
     "execution_count": 61,
     "metadata": {},
     "output_type": "execute_result"
    },
    {
     "data": {
      "text/plain": [
       "['test/15618', 'test/15649', 'test/15676', 'test/15728', 'test/15871']"
      ]
     },
     "execution_count": 61,
     "metadata": {},
     "output_type": "execute_result"
    },
    {
     "data": {
      "text/plain": [
       "['test/14832', 'test/14858', 'test/15033', 'test/15043', 'test/15106']"
      ]
     },
     "execution_count": 61,
     "metadata": {},
     "output_type": "execute_result"
    },
    {
     "data": {
      "text/plain": [
       "str"
      ]
     },
     "execution_count": 61,
     "metadata": {},
     "output_type": "execute_result"
    }
   ],
   "source": [
    "#查看文件的分类\n",
    "reuters.categories('training/9865') \n",
    "reuters.categories(['training/9865', 'training/9880']) #也可传入list\n",
    "#查看对应主题的文件\n",
    "reuters.fileids('barley')[0:5]\n",
    "reuters.fileids(['barley', 'corn'])[0:5]\n",
    "#每个file都是Str类型\n",
    "type(reuters.fileids('barley')[0])"
   ]
  },
  {
   "cell_type": "code",
   "execution_count": 64,
   "metadata": {
    "ExecuteTime": {
     "end_time": "2017-09-29T12:08:21.602894Z",
     "start_time": "2017-09-29T12:08:21.582874Z"
    }
   },
   "outputs": [
    {
     "data": {
      "text/plain": [
       "['FRENCH', 'FREE', 'MARKET', 'CEREAL', 'EXPORT', ...]"
      ]
     },
     "execution_count": 64,
     "metadata": {},
     "output_type": "execute_result"
    },
    {
     "data": {
      "text/plain": [
       "['FRENCH', 'FREE', 'MARKET', 'CEREAL', 'EXPORT', ...]"
      ]
     },
     "execution_count": 64,
     "metadata": {},
     "output_type": "execute_result"
    }
   ],
   "source": [
    "#以文档或类别为单位查找我们想要的词或句子 \n",
    "reuters.words('training/9865')\n",
    "reuters.words(categories='barley')"
   ]
  },
  {
   "cell_type": "markdown",
   "metadata": {},
   "source": [
    "# 就职演说语料库\n",
    "\n",
    "这个库实际上是 55 个文本的集合，每个文本都是一个总统的演说。但是把它当作一个单独的文本对待。\n",
    "\n",
    "每个文本的年代都出现在它的文件名中。要从文件名中获得年代，我们使用fileid[:4]提取前四个字符。"
   ]
  },
  {
   "cell_type": "code",
   "execution_count": 69,
   "metadata": {
    "ExecuteTime": {
     "end_time": "2017-09-29T12:14:42.777955Z",
     "start_time": "2017-09-29T12:14:42.765956Z"
    }
   },
   "outputs": [
    {
     "data": {
      "text/plain": [
       "56"
      ]
     },
     "execution_count": 69,
     "metadata": {},
     "output_type": "execute_result"
    },
    {
     "data": {
      "text/plain": [
       "['1789-Washington.txt', '1793-Washington.txt', '1797-Adams.txt']"
      ]
     },
     "execution_count": 69,
     "metadata": {},
     "output_type": "execute_result"
    }
   ],
   "source": [
    "from nltk.corpus import inaugural\n",
    "len(inaugural.fileids())\n",
    "inaugural.fileids()[0:3]"
   ]
  },
  {
   "cell_type": "markdown",
   "metadata": {},
   "source": [
    "条件频率分布图：计数就职演说语料库中所有以 america 或 citizen 开始的词。每个\n",
    "演讲单独计数。这样就能观察出随时间变化用法上的演变趋势。计数没有与文档长度进行归\n",
    "一化处理。"
   ]
  },
  {
   "cell_type": "code",
   "execution_count": 72,
   "metadata": {
    "ExecuteTime": {
     "end_time": "2017-09-29T12:18:36.677224Z",
     "start_time": "2017-09-29T12:18:35.845356Z"
    }
   },
   "outputs": [
    {
     "data": {
      "image/png": "[encoded data removed]",
      "text/plain": [
       "<matplotlib.figure.Figure at 0x19e9a7bc278>"
      ]
     },
     "metadata": {},
     "output_type": "display_data"
    }
   ],
   "source": [
    "# 词汇 america 和 citizen 随时间推移的使用情况\n",
    "cfdist = nltk.ConditionalFreqDist(\n",
    "            (target, fileid[:4])\n",
    "            for fileid in inaugural.fileids()\n",
    "                for w in inaugural.words(fileid)\n",
    "                    for target in ['america', 'citizen']\n",
    "                        if w.lower().startswith(target)\n",
    "            )\n",
    "cfdist.plot()"
   ]
  },
  {
   "cell_type": "markdown",
   "metadata": {},
   "source": [
    "# 在其他语言的语料库\n",
    "\n",
    "udhr是超过 300 种语言的世界人权宣言。这个语料库的 fileids 包括有关文件所使用的字符编码，如：UTF8 或者 Latin1"
   ]
  },
  {
   "cell_type": "code",
   "execution_count": 76,
   "metadata": {
    "ExecuteTime": {
     "end_time": "2017-09-29T12:26:36.334763Z",
     "start_time": "2017-09-29T12:26:36.322744Z"
    }
   },
   "outputs": [
    {
     "data": {
      "text/plain": [
       "['Abkhaz-Cyrillic+Abkh',\n",
       " 'Abkhaz-UTF8',\n",
       " 'Achehnese-Latin1',\n",
       " 'Achuar-Shiwiar-Latin1',\n",
       " 'Adja-UTF8',\n",
       " 'Afaan_Oromo_Oromiffa-Latin1',\n",
       " 'Afrikaans-Latin1',\n",
       " 'Aguaruna-Latin1',\n",
       " 'Akuapem_Twi-UTF8',\n",
       " 'Albanian_Shqip-Latin1']"
      ]
     },
     "execution_count": 76,
     "metadata": {},
     "output_type": "execute_result"
    }
   ],
   "source": [
    "from nltk.corpus import udhr\n",
    "udhr.fileids()[0:10]"
   ]
  },
  {
   "cell_type": "markdown",
   "metadata": {},
   "source": [
    "用条件频率分布来研究\n",
    "“世界人权宣言”（udhr）语料库中不同语言版本中的字长差异。"
   ]
  },
  {
   "cell_type": "code",
   "execution_count": 79,
   "metadata": {
    "ExecuteTime": {
     "end_time": "2017-09-29T12:29:09.777224Z",
     "start_time": "2017-09-29T12:29:09.341991Z"
    }
   },
   "outputs": [
    {
     "data": {
      "image/png": "[encoded data removed]",
      "text/plain": [
       "<matplotlib.figure.Figure at 0x19e9afbb278>"
      ]
     },
     "metadata": {},
     "output_type": "display_data"
    }
   ],
   "source": [
    "from nltk.corpus import udhr\n",
    "languages = ['Chickasaw', 'English', 'German_Deutsch','Greenlandic_Inuktikut', 'Hungarian_Magyar', 'Ibibio_Efik']\n",
    "cfdist = nltk.ConditionalFreqDist((lang, len(word)) for lang in languages for word in udhr.words(lang + '-Latin1'))\n",
    "cfdist.plot(cumulative=True)"
   ]
  },
  {
   "cell_type": "code",
   "execution_count": 104,
   "metadata": {
    "ExecuteTime": {
     "end_time": "2017-09-29T19:56:06.846986Z",
     "start_time": "2017-09-29T19:56:06.767511Z"
    }
   },
   "outputs": [
    {
     "name": "stdout",
     "output_type": "stream",
     "text": [
      "                  0    1    2    3    4    5    6    7    8    9 \n",
      "       English    0  185  525  883  997 1166 1283 1440 1558 1638 \n",
      "German_Deutsch    0  171  263  614  717  894 1013 1110 1213 1275 \n"
     ]
    }
   ],
   "source": [
    "#为两种语言和长度少于 10 个字符的词汇绘制累计频率数据表\n",
    "#conditions对应的是上面的 lang, samples的取值是上面图中的横坐标，即是len(word)对应的值域\n",
    "cfdist.tabulate(conditions=['English', 'German_Deutsch'], samples=range(10), cumulative=True)"
   ]
  },
  {
   "attachments": {
    "image.png": {
     "image/png": "[encoded data removed]"
    }
   },
   "cell_type": "markdown",
   "metadata": {
    "ExecuteTime": {
     "end_time": "2017-09-29T12:31:39.368922Z",
     "start_time": "2017-09-29T12:31:39.360377Z"
    }
   },
   "source": [
    "# 文本语料库的结构\n",
    "\n",
    "文本语料库的常见结构：最简单的一种语料库是一些孤立的没有什么特别的组织的\n",
    "文本集合；一些语料库按如文体（布朗语料库）等分类组织结构；一些分类会重叠，如主题\n",
    "类别（路透社语料库）；另外一些语料库可以表示随时间变化语言用法的改变（就职演说语\n",
    "料库）。\n",
    "![image.png](attachment:image.png)\n",
    "\n",
    "NLTK 中定义的基本语料库函数：使用 ```help(nltk.corpus.reader)```可以找到更多的文档，也可以阅读 http://www.nltk.org/howto 上的在线语料库的 HOWTO。\n",
    "\n",
    "```\n",
    "示例                      描述\n",
    "fileids()                 语料库中的文件\n",
    "fileids([categories])     这些分类对应的语料库中的文件\n",
    "categories()              语料库中的分类\n",
    "categories([fileids])     这些文件对应的语料库中的分类\n",
    "raw()                     语料库的原始内容\n",
    "raw(fileids=[f1,f2,f3])   指定文件的原始内容\n",
    "raw(categories=[c1,c2])   指定分类的原始内容\n",
    "words()                   整个语料库中的词汇\n",
    "words(fileids=[f1,f2,f3]) 指定文件中的词汇\n",
    "words(categories=[c1,c2]) 指定分类中的词汇\n",
    "sents()                   指定分类中的句子\n",
    "sents(fileids=[f1,f2,f3]) 指定文件中的句子\n",
    "sents(categories=[c1,c2]) 指定分类中的句子\n",
    "abspath(fileid)           指定文件在磁盘上的位置\n",
    "encoding(fileid)          文件的编码（如果知道的话）\n",
    "open(fileid)              打开指定语料库文件的文件流\n",
    "root()                    到本地安装的语料库根目录的路径\n",
    "```"
   ]
  },
  {
   "cell_type": "code",
   "execution_count": 84,
   "metadata": {
    "ExecuteTime": {
     "end_time": "2017-09-29T12:35:44.129300Z",
     "start_time": "2017-09-29T12:35:44.117282Z"
    }
   },
   "outputs": [
    {
     "data": {
      "text/plain": [
       "'[The Adventures of Buster Bear by Thornton W. Burg'"
      ]
     },
     "execution_count": 84,
     "metadata": {},
     "output_type": "execute_result"
    }
   ],
   "source": [
    "gutenberg.raw(\"burgess-busterbrown.txt\")[0:50]"
   ]
  },
  {
   "cell_type": "code",
   "execution_count": 85,
   "metadata": {
    "ExecuteTime": {
     "end_time": "2017-09-29T12:35:52.015979Z",
     "start_time": "2017-09-29T12:35:52.003960Z"
    }
   },
   "outputs": [
    {
     "data": {
      "text/plain": [
       "['[', 'The', 'Adventures', 'of', 'Buster', 'Bear', ...]"
      ]
     },
     "execution_count": 85,
     "metadata": {},
     "output_type": "execute_result"
    }
   ],
   "source": [
    "gutenberg.words(\"burgess-busterbrown.txt\")"
   ]
  },
  {
   "cell_type": "code",
   "execution_count": 88,
   "metadata": {
    "ExecuteTime": {
     "end_time": "2017-09-29T12:36:13.250384Z",
     "start_time": "2017-09-29T12:36:13.238365Z"
    }
   },
   "outputs": [
    {
     "data": {
      "text/plain": [
       "['[',\n",
       " 'The',\n",
       " 'Adventures',\n",
       " 'of',\n",
       " 'Buster',\n",
       " 'Bear',\n",
       " 'by',\n",
       " 'Thornton',\n",
       " 'W',\n",
       " '.',\n",
       " 'Burgess',\n",
       " '1920',\n",
       " ']']"
      ]
     },
     "execution_count": 88,
     "metadata": {},
     "output_type": "execute_result"
    }
   ],
   "source": [
    "gutenberg.sents(\"burgess-busterbrown.txt\")[0]"
   ]
  },
  {
   "cell_type": "markdown",
   "metadata": {
    "ExecuteTime": {
     "end_time": "2017-09-29T12:36:37.351976Z",
     "start_time": "2017-09-29T12:36:37.343974Z"
    }
   },
   "source": [
    "# 载入你自己的语料库\n",
    "\n",
    "```python\n",
    ">>> from nltk.corpus import PlaintextCorpusReader\n",
    ">>> corpus_root = '/usr/share/dict' \n",
    ">>> wordlists = PlaintextCorpusReader(corpus_root, '.*') \n",
    ">>> wordlists.fileids()\n",
    "['README', 'connectives', 'propernames', 'web2', 'web2a', 'words']\n",
    ">>> wordlists.words('connectives')\n",
    "['the', 'of', 'and', 'to', 'a', 'in', 'that', 'is', ...]\n",
    "```\n",
    "\n",
    "或者\n",
    "\n",
    "```python\n",
    ">>> from nltk.corpus import BracketParseCorpusReader\n",
    ">>> corpus_root = r\"C:\\corpora\\penntreebank\\parsed\\mrg\\wsj\" \n",
    ">>> file_pattern = r\".*/wsj_.*\\.mrg\" \n",
    ">>> ptb = BracketParseCorpusReader(corpus_root, file_pattern)\n",
    ">>> ptb.fileids()\n",
    "['00/wsj_0001.mrg', '00/wsj_0002.mrg', '00/wsj_0003.mrg', '00/wsj_0004.mrg', ...]\n",
    ">>> len(ptb.sents())\n",
    "49208\n",
    "```"
   ]
  },
  {
   "cell_type": "markdown",
   "metadata": {},
   "source": [
    "# 条件频率分布"
   ]
  },
  {
   "cell_type": "code",
   "execution_count": 137,
   "metadata": {
    "ExecuteTime": {
     "end_time": "2017-09-29T20:26:40.169878Z",
     "start_time": "2017-09-29T20:26:35.058957Z"
    },
    "collapsed": true
   },
   "outputs": [],
   "source": [
    "from nltk.corpus import brown\n",
    "cfd = nltk.ConditionalFreqDist(\n",
    "            (genre, word)  #传进来的是一个tuple 代表(条件（即是分类），事件（即是词语）)\n",
    "            for genre in brown.categories() \n",
    "                for word in brown.words(categories=genre))"
   ]
  },
  {
   "cell_type": "code",
   "execution_count": 138,
   "metadata": {
    "ExecuteTime": {
     "end_time": "2017-09-29T20:26:42.235651Z",
     "start_time": "2017-09-29T20:26:42.223618Z"
    }
   },
   "outputs": [
    {
     "data": {
      "text/plain": [
       "['science_fiction',\n",
       " 'romance',\n",
       " 'reviews',\n",
       " 'news',\n",
       " 'lore',\n",
       " 'religion',\n",
       " 'fiction',\n",
       " 'editorial',\n",
       " 'learned',\n",
       " 'belles_lettres',\n",
       " 'humor',\n",
       " 'government',\n",
       " 'hobbies',\n",
       " 'adventure',\n",
       " 'mystery']"
      ]
     },
     "execution_count": 138,
     "metadata": {},
     "output_type": "execute_result"
    }
   ],
   "source": [
    "cfd.conditions()  #包含 brown.categories() 中的所有分类"
   ]
  },
  {
   "cell_type": "code",
   "execution_count": null,
   "metadata": {
    "ExecuteTime": {
     "end_time": "2017-09-29T19:58:48.977821Z",
     "start_time": "2017-09-29T19:58:48.944787Z"
    },
    "collapsed": true
   },
   "outputs": [],
   "source": [
    "cfd['mystery'] #可通过这个查询对于 特定的condition的 "
   ]
  },
  {
   "cell_type": "code",
   "execution_count": 139,
   "metadata": {
    "ExecuteTime": {
     "end_time": "2017-09-29T20:26:46.022472Z",
     "start_time": "2017-09-29T20:26:45.949402Z"
    }
   },
   "outputs": [
    {
     "name": "stdout",
     "output_type": "stream",
     "text": [
      "           Monday   Tuesday Wednesday  Thursday    Friday  Saturday    Sunday \n",
      "romance         2         3         3         1         3         4         5 \n",
      "  humor         1         0         0         0         0         3         0 \n"
     ]
    }
   ],
   "source": [
    "#找出一周中最有新闻价值并且是最浪漫的日子·\n",
    "days = ['Monday', 'Tuesday', 'Wednesday', 'Thursday', 'Friday', 'Saturday', 'Sunday']\n",
    "cfd.tabulate(conditions=['romance', 'humor'], samples=days, cumulative=False)"
   ]
  },
  {
   "cell_type": "code",
   "execution_count": 140,
   "metadata": {
    "ExecuteTime": {
     "end_time": "2017-09-29T20:26:48.973690Z",
     "start_time": "2017-09-29T20:26:48.716863Z"
    }
   },
   "outputs": [
    {
     "data": {
      "image/png": "[encoded data removed]",
      "text/plain": [
       "<matplotlib.figure.Figure at 0x19e97fb7748>"
      ]
     },
     "metadata": {},
     "output_type": "display_data"
    }
   ],
   "source": [
    "cfd.plot(conditions=['romance', 'humor'], samples=days, cumulative=False)"
   ]
  },
  {
   "cell_type": "markdown",
   "metadata": {},
   "source": [
    "常见用法：\n",
    "\n",
    "```\n",
    "示例                                描述\n",
    "cfdist= ConditionalFreqDist(pairs) 从配对链表中创建条件频率分布\n",
    "cfdist.conditions()                将所有条件输出\n",
    "cfdist[condition]                  此条件下的频率分布\n",
    "cfdist[condition][sample]          此条件下给定样本的频率\n",
    "cfdist.tabulate()                  为条件频率分布制表\n",
    "cfdist.tabulate(samples, conditions) 指定样本和条件限制的频率分布制表\n",
    "cfdist.plot()                      为条件频率分布绘图\n",
    "cfdist.plot(samples, conditions)   指定样本和条件限制的频率分布绘图\n",
    "cfdist1 < cfdist2                  测试样本在 cfdist1 中出现次数是否小于在 cfdist2 中出现次数\n",
    "```"
   ]
  },
  {
   "cell_type": "markdown",
   "metadata": {},
   "source": [
    "# 双连词"
   ]
  },
  {
   "cell_type": "code",
   "execution_count": 123,
   "metadata": {
    "ExecuteTime": {
     "end_time": "2017-09-29T20:09:26.340497Z",
     "start_time": "2017-09-29T20:09:26.332489Z"
    }
   },
   "outputs": [
    {
     "data": {
      "text/plain": [
       "[('In', 'the'),\n",
       " ('the', 'beginning'),\n",
       " ('beginning', 'God'),\n",
       " ('God', 'created'),\n",
       " ('created', 'the'),\n",
       " ('the', 'heaven'),\n",
       " ('heaven', 'and'),\n",
       " ('and', 'the'),\n",
       " ('the', 'earth'),\n",
       " ('earth', '.')]"
      ]
     },
     "execution_count": 123,
     "metadata": {},
     "output_type": "execute_result"
    }
   ],
   "source": [
    "sent = ['In', 'the', 'beginning', 'God', 'created', 'the', 'heaven','and', 'the', 'earth', '.']\n",
    "list(nltk.bigrams(sent))"
   ]
  },
  {
   "cell_type": "code",
   "execution_count": 133,
   "metadata": {
    "ExecuteTime": {
     "end_time": "2017-09-29T20:22:31.363573Z",
     "start_time": "2017-09-29T20:22:31.103231Z"
    }
   },
   "outputs": [
    {
     "data": {
      "text/plain": [
       "FreqDist({',': 1,\n",
       "          '.': 1,\n",
       "          'creature': 7,\n",
       "          'soul': 1,\n",
       "          'substance': 2,\n",
       "          'thing': 4})"
      ]
     },
     "execution_count": 133,
     "metadata": {},
     "output_type": "execute_result"
    },
    {
     "name": "stdout",
     "output_type": "stream",
     "text": [
      "living\n",
      "creature\n",
      "that\n",
      "he\n",
      "said\n",
      ",\n",
      "and\n",
      "the\n",
      "land\n",
      "of\n",
      "the\n",
      "land\n",
      "of\n",
      "the\n",
      "land\n"
     ]
    }
   ],
   "source": [
    "def generate_model(cfdist, word, num=15):\n",
    "    #这种简单的文本生成方法往往会在循环中卡住\n",
    "    for i in range(num):\n",
    "        print(word)\n",
    "        word = cfdist[word].max()\n",
    "        \n",
    "text = nltk.corpus.genesis.words('english-kjv.txt')\n",
    "bigrams = nltk.bigrams(text)\n",
    "cfd = nltk.ConditionalFreqDist(bigrams)\n",
    "\n",
    "cfd['living']\n",
    "generate_model(cfd, 'living')"
   ]
  },
  {
   "cell_type": "markdown",
   "metadata": {},
   "source": [
    "# 附录1-列表推导表达式相关\n",
    "\n",
    "加[]和不加的[]的结果是一样的"
   ]
  },
  {
   "cell_type": "code",
   "execution_count": 116,
   "metadata": {
    "ExecuteTime": {
     "end_time": "2017-09-29T20:03:34.446990Z",
     "start_time": "2017-09-29T20:03:34.433983Z"
    }
   },
   "outputs": [
    {
     "data": {
      "text/plain": [
       "{'a', 'b', 'c'}"
      ]
     },
     "execution_count": 116,
     "metadata": {},
     "output_type": "execute_result"
    },
    {
     "data": {
      "text/plain": [
       "{'a', 'b', 'c'}"
      ]
     },
     "execution_count": 116,
     "metadata": {},
     "output_type": "execute_result"
    }
   ],
   "source": [
    "set([w.lower() for w in ['A','b','C']])\n",
    "set(w.lower() for w in ['A','b','C'])"
   ]
  }
 ],
 "metadata": {
  "anaconda-cloud": {},
  "kernelspec": {
   "display_name": "Python [conda root]",
   "language": "python",
   "name": "conda-root-py"
  },
  "language_info": {
   "codemirror_mode": {
    "name": "ipython",
    "version": 3
   },
   "file_extension": ".py",
   "mimetype": "text/x-python",
   "name": "python",
   "nbconvert_exporter": "python",
   "pygments_lexer": "ipython3",
   "version": "3.5.2"
  },
  "toc": {
   "nav_menu": {},
   "number_sections": true,
   "sideBar": true,
   "skip_h1_title": false,
   "toc_cell": false,
   "toc_position": {},
   "toc_section_display": "block",
   "toc_window_display": true
  }
 },
 "nbformat": 4,
 "nbformat_minor": 2
}
